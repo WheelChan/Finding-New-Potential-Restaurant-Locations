{
 "cells": [
  {
   "cell_type": "code",
   "execution_count": 1,
   "id": "5297c541",
   "metadata": {},
   "outputs": [],
   "source": [
    "import sys\n",
    "import pandas as pd\n",
    "import numpy as np\n",
    "import gzip"
   ]
  },
  {
   "cell_type": "code",
   "execution_count": 42,
   "id": "46161147",
   "metadata": {},
   "outputs": [],
   "source": [
    "#cleaning data\n",
    "data = pd.read_json(\"amenities-vancouver.json.gz\",  lines = True)\n",
    "data.dropna(subset = ['name'], inplace = True)\n",
    "\n",
    "#list of unwanted values for 'amenity' column types\n",
    "unwanted_vals = ['parking_entrance', 'fuel', 'doctors', 'school', 'pharmacy', 'dentist', 'bank', 'toilets',\n",
    "                 'drinking_water', 'veterinary', 'bench', 'social_facility', 'childcare', 'clinic', 'telephone',\n",
    "                'waste_basket', 'parking', 'motorcycle_parking', 'bicycle_parking', 'post_box', 'prep_school', \n",
    "                'scrapyard', 'atm;bank', 'waste_disposal', 'chiropractor', 'waste_transfer_station', 'housing co-op',\n",
    "                'bus_station', 'cram_school', 'safety', 'lobby', 'Pharmacy', 'bicycle_repair_station', 'storage_rental',\n",
    "                'storage', 'car_rep', 'recycling', 'atm', 'police', 'fire_station', 'construction', 'language_school',\n",
    "                'office|financial', 'charging_station', 'healthcare', 'science', 'disused:restaurant', 'car_wash', 'post_depot',\n",
    "                'car_sharing', 'vending_machine', 'kindergarten', 'nursery', 'hospital', 'taxi', 'training']\n",
    "for i in unwanted_vals:\n",
    "    data = data[data['amenity'] != i]\n",
    "\n",
    "#print(data['amenity'].unique())\n",
    "#data"
   ]
  },
  {
   "cell_type": "code",
   "execution_count": 41,
   "id": "2f20ea82",
   "metadata": {},
   "outputs": [],
   "source": [
    "#converting data to csv file\n",
    "data.to_csv(\"output.csv\")"
   ]
  },
  {
   "cell_type": "code",
   "execution_count": null,
   "id": "ddc71ed9",
   "metadata": {},
   "outputs": [],
   "source": []
  }
 ],
 "metadata": {
  "kernelspec": {
   "display_name": "Python 3",
   "language": "python",
   "name": "python3"
  },
  "language_info": {
   "codemirror_mode": {
    "name": "ipython",
    "version": 3
   },
   "file_extension": ".py",
   "mimetype": "text/x-python",
   "name": "python",
   "nbconvert_exporter": "python",
   "pygments_lexer": "ipython3",
   "version": "3.8.8"
  }
 },
 "nbformat": 4,
 "nbformat_minor": 5
}
